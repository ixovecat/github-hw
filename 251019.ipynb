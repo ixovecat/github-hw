{
  "nbformat": 4,
  "nbformat_minor": 0,
  "metadata": {
    "colab": {
      "provenance": [],
      "authorship_tag": "ABX9TyMBSR/QlIzIizaHgLMXGsEZ",
      "include_colab_link": true
    },
    "kernelspec": {
      "name": "python3",
      "display_name": "Python 3"
    },
    "language_info": {
      "name": "python"
    }
  },
  "cells": [
    {
      "cell_type": "markdown",
      "metadata": {
        "id": "view-in-github",
        "colab_type": "text"
      },
      "source": [
        "<a href=\"https://colab.research.google.com/github/ixovecat/github-hw/blob/main/251019.ipynb\" target=\"_parent\"><img src=\"https://colab.research.google.com/assets/colab-badge.svg\" alt=\"Open In Colab\"/></a>"
      ]
    },
    {
      "cell_type": "code",
      "execution_count": null,
      "metadata": {
        "id": "2gCoZUVfpVwb",
        "colab": {
          "base_uri": "https://localhost:8080/"
        },
        "outputId": "c5fc4488-9183-4942-c424-1a5096f68ee6"
      },
      "outputs": [
        {
          "output_type": "stream",
          "name": "stdout",
          "text": [
            "숫자 5개를 입력 : 4 5 6 7 8\n",
            "문자 1개 입력: 2\n",
            "리스트 :  [4, 5, 6, 7, 8, '2']\n"
          ]
        }
      ],
      "source": [
        "c#과제11\n",
        "nums = list(map(int, input(\"숫자 5개를 입력 : \").split()))\n",
        "a = input(\"문자 1개 입력: \")\n",
        "nums.append(a)\n",
        "print(\"리스트 : \", nums)"
      ]
    },
    {
      "cell_type": "code",
      "source": [
        "#과제12\n",
        "nums = list(map(int, input(\"숫자 5개를 입력 :\").split()))\n",
        "del nums[-2:]\n",
        "print(\"리스트 :\", nums)"
      ],
      "metadata": {
        "colab": {
          "base_uri": "https://localhost:8080/"
        },
        "id": "hraiQk2Ys1j9",
        "outputId": "23176f7c-7314-4dc2-c2de-8f286606431d"
      },
      "execution_count": null,
      "outputs": [
        {
          "output_type": "stream",
          "name": "stdout",
          "text": [
            "숫자 5개를 입력 :3 2 6 7 9\n",
            "리스트 : [3, 2, 6]\n"
          ]
        }
      ]
    },
    {
      "cell_type": "code",
      "source": [
        "#과제13\n",
        "nums = list(map(int, input(\"숫자 5개를 입력 :\").split()))\n",
        "for i, n in enumerate(nums,start=101):\n",
        "  print(f\"index {i}: {n}\")"
      ],
      "metadata": {
        "colab": {
          "base_uri": "https://localhost:8080/"
        },
        "id": "287r3JXMteRE",
        "outputId": "def1f8c6-4d5f-436b-b0d8-3be45a2c1442"
      },
      "execution_count": null,
      "outputs": [
        {
          "output_type": "stream",
          "name": "stdout",
          "text": [
            "숫자 5개를 입력 :3 6 7 8 2 \n",
            "index 101: 3\n",
            "index 102: 6\n",
            "index 103: 7\n",
            "index 104: 8\n",
            "index 105: 2\n"
          ]
        }
      ]
    },
    {
      "cell_type": "code",
      "source": [
        "#과제14\n",
        "a = [10,20,30,40,30,20,10]\n",
        "count_20 = a.count(20)\n",
        "print(\"숫자 20의 개수:\", count_20)"
      ],
      "metadata": {
        "colab": {
          "base_uri": "https://localhost:8080/"
        },
        "id": "e0Lz_Gswu_Fu",
        "outputId": "9029701e-0bb6-4837-e907-52d83413802e"
      },
      "execution_count": null,
      "outputs": [
        {
          "output_type": "stream",
          "name": "stdout",
          "text": [
            "숫자 20의 개수: 2\n"
          ]
        }
      ]
    },
    {
      "cell_type": "code",
      "source": [
        "#과제15\n",
        "nums = list(map(int, input(\"숫자 10개를 입력 :\").split()))\n",
        "print(\"최솟값:\", min(nums))\n",
        "print(\"최댓값\",max(nums))"
      ],
      "metadata": {
        "colab": {
          "base_uri": "https://localhost:8080/"
        },
        "id": "UrMBhGgey1V2",
        "outputId": "ec650c47-8b5f-4e6b-9949-372c7c709bc4"
      },
      "execution_count": null,
      "outputs": [
        {
          "output_type": "stream",
          "name": "stdout",
          "text": [
            "숫자 10개를 입력 :2 5 6 7 8 3 4 6 8 2\n",
            "최솟값: 2\n",
            "최댓값 8\n"
          ]
        }
      ]
    },
    {
      "cell_type": "code",
      "source": [
        "#과제16\n",
        "nums = list(map(int, input(\"숫자 10개를 입력 :\").split()))\n",
        "min_val = min(nums)\n",
        "max_val = max(nums)\n",
        "cut = [x for x in nums if x != min_val and x != max_val]\n",
        "print(\"최저값과 최고값을 제외한 합:\",sum(cut))"
      ],
      "metadata": {
        "colab": {
          "base_uri": "https://localhost:8080/"
        },
        "id": "8uH35oyfwteW",
        "outputId": "94d2bd0d-5ca1-4a84-970d-f2baec7052ef"
      },
      "execution_count": null,
      "outputs": [
        {
          "output_type": "stream",
          "name": "stdout",
          "text": [
            "숫자 10개를 입력 :1 2 3 4 5 6 7 8 9 0\n",
            "최저값과 최고값을 제외한 합: 36\n"
          ]
        }
      ]
    },
    {
      "cell_type": "code",
      "source": [
        "#과제17\n",
        "a = [10,20,30,40,30,20,10]\n",
        "a = [ x for x in a if x != 20]\n",
        "print(\"20 삭제 후 리스트:\", a)"
      ],
      "metadata": {
        "colab": {
          "base_uri": "https://localhost:8080/"
        },
        "id": "9PPk0CBl1bHW",
        "outputId": "b2eba83d-3be4-4e1b-d6de-9ffe73c1c8fe"
      },
      "execution_count": null,
      "outputs": [
        {
          "output_type": "stream",
          "name": "stdout",
          "text": [
            "20 삭제 후 리스트: [10, 30, 40, 30, 10]\n"
          ]
        }
      ]
    },
    {
      "cell_type": "code",
      "source": [
        "#과제18\n",
        "lst = [i for i in range(1,6)]\n",
        "print(lst)"
      ],
      "metadata": {
        "colab": {
          "base_uri": "https://localhost:8080/"
        },
        "id": "MIgfXWyi7NT5",
        "outputId": "ca89e0cd-8ce8-4dac-8e23-306f2d72898a"
      },
      "execution_count": null,
      "outputs": [
        {
          "output_type": "stream",
          "name": "stdout",
          "text": [
            "[1, 2, 3, 4, 5]\n"
          ]
        }
      ]
    },
    {
      "cell_type": "code",
      "source": [
        "#과제19\n",
        "odds = [i for in range(1,21) if i % 2 != 0]\n",
        "print(odds)"
      ],
      "metadata": {
        "id": "gXIlqbwy8VeK"
      },
      "execution_count": null,
      "outputs": []
    },
    {
      "cell_type": "code",
      "source": [
        "#과제20\n",
        "start,end = map(int, input(\"정수 두 개를 입력하세요\").split())\n",
        "powers = [2 ** i for i in range(start, end)]\n",
        "print(powers)"
      ],
      "metadata": {
        "colab": {
          "base_uri": "https://localhost:8080/"
        },
        "id": "sFlS-Gws8oQS",
        "outputId": "ebdc5d1d-9083-41bd-8b7c-b29bdade4fe1"
      },
      "execution_count": null,
      "outputs": [
        {
          "output_type": "stream",
          "name": "stdout",
          "text": [
            "정수 두 개를 입력하세요1 24\n",
            "[2, 4, 8, 16, 32, 64, 128, 256, 512, 1024, 2048, 4096, 8192, 16384, 32768, 65536, 131072, 262144, 524288, 1048576, 2097152, 4194304, 8388608]\n"
          ]
        }
      ]
    },
    {
      "cell_type": "code",
      "source": [
        "#과제21\n",
        "s = input(\"문자열 입력:\")\n",
        "result = s.replace(\"Hello\",\"Hi\")\n",
        "print(result)"
      ],
      "metadata": {
        "colab": {
          "base_uri": "https://localhost:8080/"
        },
        "id": "Fj0Pq0eh_Xe2",
        "outputId": "2d194bd6-0f30-4617-cba7-0acbedf8acee"
      },
      "execution_count": null,
      "outputs": [
        {
          "output_type": "stream",
          "name": "stdout",
          "text": [
            "문자열 입력:Hello, world!\n",
            "Hi, world!\n"
          ]
        }
      ]
    },
    {
      "cell_type": "code",
      "source": [
        "#과제22\n",
        "raw = input(\"문자 4개를 입력하세요:\").strip()\n",
        "parts = raw.split()\n",
        "if len(parts) >= 4:\n",
        " items = parts[:4]\n",
        "else:\n",
        "  items = list(raw)[:4]\n",
        "print(\"/\".join(items))"
      ],
      "metadata": {
        "colab": {
          "base_uri": "https://localhost:8080/"
        },
        "id": "hKNJtvxOBQuo",
        "outputId": "877e9a26-806f-464c-a061-9bba70f15edc"
      },
      "execution_count": null,
      "outputs": [
        {
          "output_type": "stream",
          "name": "stdout",
          "text": [
            "문자 4개를 입력하세요:안녕하세요 저는 기니피그를 좋아합니다\n",
            "안녕하세요/저는/기니피그를/좋아합니다\n"
          ]
        }
      ]
    },
    {
      "cell_type": "code",
      "source": [
        "#과제23\n",
        "family = input(\"성(영문) 입력:\").strip()\n",
        "family_lower = family.lower()\n",
        "print(family_lower.rjust(10))"
      ],
      "metadata": {
        "colab": {
          "base_uri": "https://localhost:8080/"
        },
        "id": "Lcn5yBjGDAGY",
        "outputId": "0d5d53ab-26a4-4048-a1c5-8d9570be2ca6"
      },
      "execution_count": null,
      "outputs": [
        {
          "output_type": "stream",
          "name": "stdout",
          "text": [
            "성(영문) 입력:baek\n",
            "      baek\n"
          ]
        }
      ]
    },
    {
      "cell_type": "code",
      "source": [
        "#과제24\n",
        "raw = input(\"가격들을 세미콜론(;)으로 한줄로 입력:\")\n",
        "tokens = [t.strip() for t in raw.split(\";\") if t.strip() != \"\"]\n",
        "prices = [ ]\n",
        "for t in tokens:\n",
        "    try:\n",
        "      prices.append(int(t))\n",
        "    except ValueError:\n",
        "      pass\n",
        "prices.sort(reverse=True)\n",
        "\n",
        "for p in prices:\n",
        "  print(str(p).rjust(9))"
      ],
      "metadata": {
        "colab": {
          "base_uri": "https://localhost:8080/"
        },
        "id": "bLn3A7OQNBQy",
        "outputId": "559d6d5e-ebc0-4d53-d4bc-44a65d1753f4"
      },
      "execution_count": null,
      "outputs": [
        {
          "output_type": "stream",
          "name": "stdout",
          "text": [
            "가격들을 세미콜론(;)으로 한줄로 입력:51994;4444;5555;7777;33322;88987;14500\n",
            "    88987\n",
            "    51994\n",
            "    33322\n",
            "    14500\n",
            "     7777\n",
            "     5555\n",
            "     4444\n"
          ]
        }
      ]
    },
    {
      "cell_type": "markdown",
      "source": [],
      "metadata": {
        "id": "RnLldnIZs1WA"
      }
    },
    {
      "cell_type": "markdown",
      "source": [],
      "metadata": {
        "id": "tEh48zXv8U5B"
      }
    }
  ]
}